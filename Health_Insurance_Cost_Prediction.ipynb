{
  "nbformat": 4,
  "nbformat_minor": 0,
  "metadata": {
    "colab": {
      "name": "Health Insurance Cost Prediction.ipynb",
      "provenance": [],
      "authorship_tag": "ABX9TyOrbWWbQUXJ6x2cSmaaDOWR",
      "include_colab_link": true
    },
    "kernelspec": {
      "name": "python3",
      "display_name": "Python 3"
    },
    "language_info": {
      "name": "python"
    }
  },
  "cells": [
    {
      "cell_type": "markdown",
      "metadata": {
        "id": "view-in-github",
        "colab_type": "text"
      },
      "source": [
        "<a href=\"https://colab.research.google.com/github/LuccaMello7/Portfolio/blob/main/Health_Insurance_Cost_Prediction.ipynb\" target=\"_parent\"><img src=\"https://colab.research.google.com/assets/colab-badge.svg\" alt=\"Open In Colab\"/></a>"
      ]
    },
    {
      "cell_type": "code",
      "execution_count": 1,
      "metadata": {
        "colab": {
          "base_uri": "https://localhost:8080/"
        },
        "id": "rmMFrWbE_nnZ",
        "outputId": "6525a55e-4975-4879-c4e1-4534f3e40c56"
      },
      "outputs": [
        {
          "output_type": "stream",
          "name": "stdout",
          "text": [
            "\u001b[K     |████████████████████████████████| 319 kB 4.9 MB/s \n",
            "\u001b[K     |████████████████████████████████| 16.5 MB 40.5 MB/s \n",
            "\u001b[K     |████████████████████████████████| 86 kB 4.4 MB/s \n",
            "\u001b[K     |████████████████████████████████| 2.0 MB 28.2 MB/s \n",
            "\u001b[K     |████████████████████████████████| 6.8 MB 35.1 MB/s \n",
            "\u001b[K     |████████████████████████████████| 261 kB 43.9 MB/s \n",
            "\u001b[K     |████████████████████████████████| 167 kB 45.3 MB/s \n",
            "\u001b[K     |████████████████████████████████| 1.3 MB 35.8 MB/s \n",
            "\u001b[K     |████████████████████████████████| 1.7 MB 38.4 MB/s \n",
            "\u001b[?25h  Installing build dependencies ... \u001b[?25l\u001b[?25hdone\n",
            "  Getting requirements to build wheel ... \u001b[?25l\u001b[?25hdone\n",
            "  Installing backend dependencies ... \u001b[?25l\u001b[?25hdone\n",
            "    Preparing wheel metadata ... \u001b[?25l\u001b[?25hdone\n",
            "\u001b[K     |████████████████████████████████| 56 kB 3.3 MB/s \n",
            "\u001b[K     |████████████████████████████████| 116 kB 55.2 MB/s \n",
            "\u001b[K     |████████████████████████████████| 636 kB 39.6 MB/s \n",
            "\u001b[K     |████████████████████████████████| 102 kB 9.4 MB/s \n",
            "\u001b[K     |████████████████████████████████| 63 kB 1.2 MB/s \n",
            "\u001b[K     |████████████████████████████████| 10.9 MB 28.7 MB/s \n",
            "\u001b[K     |████████████████████████████████| 303 kB 33.8 MB/s \n",
            "\u001b[K     |████████████████████████████████| 3.1 MB 33.7 MB/s \n",
            "\u001b[K     |████████████████████████████████| 690 kB 32.2 MB/s \n",
            "\u001b[K     |████████████████████████████████| 812 kB 27.0 MB/s \n",
            "\u001b[K     |████████████████████████████████| 25.9 MB 1.5 MB/s \n",
            "\u001b[K     |████████████████████████████████| 271 kB 41.5 MB/s \n",
            "\u001b[K     |████████████████████████████████| 14.8 MB 25.7 MB/s \n",
            "\u001b[K     |████████████████████████████████| 79 kB 6.1 MB/s \n",
            "\u001b[K     |████████████████████████████████| 210 kB 40.5 MB/s \n",
            "\u001b[K     |████████████████████████████████| 62 kB 598 kB/s \n",
            "\u001b[K     |████████████████████████████████| 146 kB 54.4 MB/s \n",
            "\u001b[K     |████████████████████████████████| 181 kB 48.7 MB/s \n",
            "\u001b[K     |████████████████████████████████| 54 kB 1.9 MB/s \n",
            "\u001b[K     |████████████████████████████████| 63 kB 994 kB/s \n",
            "\u001b[K     |████████████████████████████████| 78 kB 4.6 MB/s \n",
            "\u001b[K     |████████████████████████████████| 1.7 MB 28.5 MB/s \n",
            "\u001b[?25h  Installing build dependencies ... \u001b[?25l\u001b[?25hdone\n",
            "  Getting requirements to build wheel ... \u001b[?25l\u001b[?25hdone\n",
            "  Installing backend dependencies ... \u001b[?25l\u001b[?25hdone\n",
            "    Preparing wheel metadata ... \u001b[?25l\u001b[?25hdone\n",
            "\u001b[K     |████████████████████████████████| 1.7 MB 38.9 MB/s \n",
            "\u001b[K     |████████████████████████████████| 1.1 MB 35.3 MB/s \n",
            "\u001b[?25h  Building wheel for htmlmin (setup.py) ... \u001b[?25l\u001b[?25hdone\n",
            "  Building wheel for imagehash (setup.py) ... \u001b[?25l\u001b[?25hdone\n",
            "  Building wheel for databricks-cli (setup.py) ... \u001b[?25l\u001b[?25hdone\n",
            "  Building wheel for pyLDAvis (setup.py) ... \u001b[?25l\u001b[?25hdone\n",
            "  Building wheel for pyod (setup.py) ... \u001b[?25l\u001b[?25hdone\n",
            "  Building wheel for umap-learn (setup.py) ... \u001b[?25l\u001b[?25hdone\n",
            "  Building wheel for pynndescent (setup.py) ... \u001b[?25l\u001b[?25hdone\n",
            "\u001b[31mERROR: pip's dependency resolver does not currently take into account all the packages that are installed. This behaviour is the source of the following dependency conflicts.\n",
            "tensorflow 2.8.0 requires tf-estimator-nightly==2.8.0.dev2021122109, which is not installed.\n",
            "tensorflow 2.8.0 requires numpy>=1.20, but you have numpy 1.19.5 which is incompatible.\n",
            "google-colab 1.0.0 requires requests~=2.23.0, but you have requests 2.27.1 which is incompatible.\n",
            "datascience 0.10.6 requires folium==0.2.1, but you have folium 0.8.3 which is incompatible.\n",
            "albumentations 0.1.12 requires imgaug<0.2.7,>=0.2.5, but you have imgaug 0.2.9 which is incompatible.\u001b[0m\n"
          ]
        }
      ],
      "source": [
        "# instalando a biblioteca\n",
        "!pip install pycaret -q"
      ]
    },
    {
      "cell_type": "code",
      "source": [
        "# configurando para o Colab\n",
        "from pycaret.utils import enable_colab \n",
        "enable_colab()"
      ],
      "metadata": {
        "id": "Ff2eDcQwAMzW"
      },
      "execution_count": null,
      "outputs": []
    }
  ]
}